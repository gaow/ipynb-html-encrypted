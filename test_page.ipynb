{
 "cells": [
  {
   "cell_type": "markdown",
   "metadata": {
    "kernel": "SoS"
   },
   "source": [
    "# 多种语言脚本的组织和运行\n",
    "\n",
    "## 参数设置\n",
    "\n",
    "（文字说明）"
   ]
  },
  {
   "cell_type": "code",
   "execution_count": 1,
   "metadata": {
    "kernel": "SoS"
   },
   "outputs": [],
   "source": [
    "[global]\n",
    "# 参数1\n",
    "parameter: n = 1.0\n",
    "# 参数2\n",
    "parameter: beta = [1.0,2.0,3.0]"
   ]
  },
  {
   "cell_type": "markdown",
   "metadata": {
    "kernel": "SoS"
   },
   "source": [
    "## 一段bash码\n",
    "（文字说明）"
   ]
  },
  {
   "cell_type": "code",
   "execution_count": 2,
   "metadata": {
    "kernel": "SoS"
   },
   "outputs": [],
   "source": [
    "# 用bash打n\n",
    "[print_n]\n",
    "bash: expand = '${ }'\n",
    "    echo ${n}"
   ]
  },
  {
   "cell_type": "markdown",
   "metadata": {
    "kernel": "SoS"
   },
   "source": [
    "## 另外一段bash码\n",
    "（文字说明）"
   ]
  },
  {
   "cell_type": "code",
   "execution_count": 3,
   "metadata": {
    "kernel": "SoS"
   },
   "outputs": [],
   "source": [
    "# 用bash打beta\n",
    "[print_beta]\n",
    "bash: expand = '${ }'\n",
    "    echo ${beta}"
   ]
  },
  {
   "cell_type": "markdown",
   "metadata": {
    "kernel": "SoS"
   },
   "source": [
    "## 一段python码\n",
    "（文字说明）"
   ]
  },
  {
   "cell_type": "code",
   "execution_count": 4,
   "metadata": {
    "kernel": "SoS"
   },
   "outputs": [],
   "source": [
    "# 用python打log(beta)\n",
    "[log_beta]\n",
    "python: expand = '${ }'\n",
    "    import numpy as np\n",
    "    print(np.log(${beta}))"
   ]
  },
  {
   "cell_type": "markdown",
   "metadata": {
    "kernel": "SoS"
   },
   "source": [
    "## 一段R码\n",
    "（文字说明）"
   ]
  },
  {
   "cell_type": "code",
   "execution_count": 5,
   "metadata": {
    "kernel": "SoS"
   },
   "outputs": [],
   "source": [
    "# 用R打exp(n)\n",
    "[exp_n]\n",
    "R: expand = '${ }'\n",
    "    exp(${n})"
   ]
  },
  {
   "cell_type": "code",
   "execution_count": 6,
   "metadata": {
    "kernel": "SoS"
   },
   "outputs": [
    {
     "name": "stdout",
     "output_type": "stream",
     "text": [
      "usage: sos run SoS_example.ipynb [workflow_name | -t targets] [options] [workflow_options]\n",
      "  workflow_name:        Single or combined workflows defined in this script\n",
      "  targets:              One or more targets to generate\n",
      "  options:              Single-hyphen sos parameters (see \"sos run -h\" for details)\n",
      "  workflow_options:     Double-hyphen workflow-specific parameters\n",
      "\n",
      "Workflows:\n",
      "  print_n\n",
      "  print_beta\n",
      "  log_beta\n",
      "  exp_n\n",
      "\n",
      "Global Workflow Options:\n",
      "  --n 1.0 (as float)\n",
      "                        参数1\n",
      "  --beta 1.0 2.0 3.0 (as list)\n",
      "                        参数2\n",
      "\n",
      "Sections\n",
      "  print_n:              用bash打n\n",
      "  print_beta:           用bash打beta\n",
      "  log_beta:             用python打log(beta)\n",
      "  exp_n:                用R打exp(n)\n"
     ]
    }
   ],
   "source": [
    "! sos run SoS_example.ipynb -h"
   ]
  },
  {
   "cell_type": "code",
   "execution_count": 7,
   "metadata": {
    "kernel": "SoS"
   },
   "outputs": [
    {
     "name": "stdout",
     "output_type": "stream",
     "text": [
      "1.0\n",
      "INFO: output:   \u001b[32m[]\u001b[0m\n",
      "INFO: Workflow print_n (ID=7dcbc33c803ab5ea) is executed successfully with 1 completed step.\n"
     ]
    }
   ],
   "source": [
    "! sos run SoS_example.ipynb print_n"
   ]
  },
  {
   "cell_type": "code",
   "execution_count": 8,
   "metadata": {
    "kernel": "SoS"
   },
   "outputs": [
    {
     "name": "stdout",
     "output_type": "stream",
     "text": [
      "666.0\n",
      "INFO: output:   \u001b[32m[]\u001b[0m\n",
      "INFO: Workflow print_n (ID=f73ad84ed0cbb215) is executed successfully with 1 completed step.\n"
     ]
    }
   ],
   "source": [
    "! sos run SoS_example.ipynb print_n --n 666"
   ]
  },
  {
   "cell_type": "code",
   "execution_count": 9,
   "metadata": {
    "kernel": "SoS"
   },
   "outputs": [
    {
     "name": "stdout",
     "output_type": "stream",
     "text": [
      "[1.0, 2.0, 3.0]\n",
      "INFO: output:   \u001b[32m[]\u001b[0m\n",
      "INFO: Workflow print_beta (ID=4ae3caff98f81bf0) is executed successfully with 1 completed step.\n"
     ]
    }
   ],
   "source": [
    "! sos run SoS_example.ipynb print_beta"
   ]
  },
  {
   "cell_type": "code",
   "execution_count": 10,
   "metadata": {
    "kernel": "SoS"
   },
   "outputs": [
    {
     "name": "stdout",
     "output_type": "stream",
     "text": [
      "[666.0]\n",
      "INFO: output:   \u001b[32m[]\u001b[0m\n",
      "INFO: Workflow print_beta (ID=c1a2755b73aafc7e) is executed successfully with 1 completed step.\n"
     ]
    }
   ],
   "source": [
    "! sos run SoS_example.ipynb print_beta --beta 666"
   ]
  },
  {
   "cell_type": "code",
   "execution_count": 11,
   "metadata": {
    "kernel": "SoS"
   },
   "outputs": [
    {
     "name": "stdout",
     "output_type": "stream",
     "text": [
      "[ 0.          0.69314718  1.09861229]\n",
      "INFO: output:   \u001b[32m[]\u001b[0m\n",
      "INFO: Workflow log_beta (ID=a644cecc0ea99488) is executed successfully with 1 completed step.\n"
     ]
    }
   ],
   "source": [
    "! sos run SoS_example.ipynb log_beta"
   ]
  },
  {
   "cell_type": "code",
   "execution_count": 12,
   "metadata": {
    "kernel": "SoS"
   },
   "outputs": [
    {
     "name": "stdout",
     "output_type": "stream",
     "text": [
      "[ 1.00000668]\n",
      "INFO: output:   \u001b[32m[]\u001b[0m\n",
      "INFO: Workflow log_beta (ID=925eac4b21ec2b33) is executed successfully with 1 completed step.\n"
     ]
    }
   ],
   "source": [
    "! sos run SoS_example.ipynb log_beta --beta 2.7183"
   ]
  },
  {
   "cell_type": "code",
   "execution_count": 13,
   "metadata": {
    "kernel": "SoS"
   },
   "outputs": [
    {
     "name": "stdout",
     "output_type": "stream",
     "text": [
      "[1] 2.718282\n",
      "INFO: output:   \u001b[32m[]\u001b[0m\n",
      "INFO: Workflow exp_n (ID=d640e4acd85f1a1a) is executed successfully with 1 completed step.\n"
     ]
    }
   ],
   "source": [
    "! sos run SoS_example.ipynb exp_n"
   ]
  },
  {
   "cell_type": "code",
   "execution_count": null,
   "metadata": {
    "kernel": "SoS"
   },
   "outputs": [],
   "source": []
  }
 ],
 "metadata": {
  "kernelspec": {
   "display_name": "SoS",
   "language": "sos",
   "name": "sos"
  },
  "language_info": {
   "codemirror_mode": "sos",
   "file_extension": ".sos",
   "mimetype": "text/x-sos",
   "name": "sos",
   "nbconvert_exporter": "sos_notebook.converter.SoS_Exporter",
   "pygments_lexer": "sos"
  },
  "sos": {
   "default_kernel": "SoS",
   "kernels": [],
   "panel": {
    "displayed": true,
    "height": 0,
    "style": "side"
   },
   "version": "0.9.15.1"
  }
 },
 "nbformat": 4,
 "nbformat_minor": 2
}
